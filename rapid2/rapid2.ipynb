{
 "cells": [
  {
   "cell_type": "code",
   "execution_count": 1,
   "metadata": {},
   "outputs": [],
   "source": [
    "import importlib\n",
    "import plots"
   ]
  },
  {
   "cell_type": "code",
   "execution_count": 2,
   "metadata": {},
   "outputs": [],
   "source": [
    "import pandas as pd"
   ]
  },
  {
   "cell_type": "code",
   "execution_count": 23,
   "metadata": {},
   "outputs": [
    {
     "name": "stdout",
     "output_type": "stream",
     "text": [
      "Total points: 24\n",
      "18\n"
     ]
    },
    {
     "data": {
      "application/vnd.jupyter.widget-view+json": {
       "model_id": "57aeb77cd358406e9143533d86d732be",
       "version_major": 2,
       "version_minor": 0
      },
      "text/plain": [
       "VBox(children=(Tab(children=(VBox(children=(FigureWidget({\n",
       "    'data': [{'hoverinfo': 'text',\n",
       "              'm…"
      ]
     },
     "metadata": {},
     "output_type": "display_data"
    }
   ],
   "source": [
    "importlib.reload(plots)\n",
    "fig1 = plots.Figure1('./data/WF3_Iodides_20191211b.csv')\n",
    "fig1.plot"
   ]
  },
  {
   "cell_type": "code",
   "execution_count": 3,
   "metadata": {},
   "outputs": [
    {
     "data": {
      "text/plain": [
       "Index(['RunID_vial', '_out_crystalscore', '_raw_v0-M_acid',\n",
       "       '_raw_v0-M_inorganic', '_raw_v0-M_organic', '_rxn_M_acid',\n",
       "       '_rxn_M_inorganic', '_rxn_M_organic', '_rxn_organic-inchikey',\n",
       "       '_rxn_temperatureC_actual_bulk',\n",
       "       ...\n",
       "       '_raw_standardized_smiles', '_prototype_ECFP4_hexstring',\n",
       "       '_prototype_ringcountBOOL', '_prototype_aromaticBOOL',\n",
       "       '_prototype_AmineSitesINT', '_prototype_PrimarySitesBOOL',\n",
       "       '_prototype_SecondarySitesBOOL', '_prototype_TertiarySitesBOOL',\n",
       "       '_prototype_ImminiumSitesBOOL', '_prototype_heteroatomINT'],\n",
       "      dtype='object', length=564)"
      ]
     },
     "execution_count": 3,
     "metadata": {},
     "output_type": "execute_result"
    }
   ],
   "source": [
    "df = pd.read_csv('./data/WF3_Iodides_20191211b.csv')\n",
    "df.columns"
   ]
  },
  {
   "cell_type": "code",
   "execution_count": null,
   "metadata": {},
   "outputs": [],
   "source": []
  }
 ],
 "metadata": {
  "hide_input": false,
  "kernelspec": {
   "display_name": "Python 3",
   "language": "python",
   "name": "python3"
  },
  "language_info": {
   "codemirror_mode": {
    "name": "ipython",
    "version": 3
   },
   "file_extension": ".py",
   "mimetype": "text/x-python",
   "name": "python",
   "nbconvert_exporter": "python",
   "pygments_lexer": "ipython3",
   "version": "3.7.3"
  }
 },
 "nbformat": 4,
 "nbformat_minor": 2
}
