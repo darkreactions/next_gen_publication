{
 "cells": [
  {
   "cell_type": "code",
   "execution_count": 1,
   "metadata": {
    "scrolled": false
   },
   "outputs": [
    {
     "name": "stdout",
     "output_type": "stream",
     "text": [
      "Total points: 1573\n"
     ]
    },
    {
     "data": {
      "application/vnd.jupyter.widget-view+json": {
       "model_id": "19df6468c8334a449313d2227b494730",
       "version_major": 2,
       "version_minor": 0
      },
      "text/plain": [
       "VBox(children=(Tab(children=(VBox(children=(FigureWidget({\n",
       "    'data': [{'hoverinfo': 'text',\n",
       "              'm…"
      ]
     },
     "metadata": {},
     "output_type": "display_data"
    },
    {
     "name": "stdout",
     "output_type": "stream",
     "text": [
      "Total points: 144\n",
      "Total points: 144\n",
      "Total points: 291\n",
      "Total points: 288\n",
      "Total points: 3\n"
     ]
    }
   ],
   "source": [
    "import plot_3d\n",
    "import importlib\n",
    "import sklearn \n",
    "\n",
    "\n",
    "importlib.reload(plot_3d)\n",
    "data_path = './perovskitedata/0041.perovskitedata.csv'\n",
    "base_path = '.'\n",
    "#clustering_algo = sklearn.cluster.DBSCAN(eps=0.5)\n",
    "clustering_algo = None\n",
    "f = plot_3d.Figure1(data_path, base_path=base_path, cluster=clustering_algo)\n",
    "f.plot"
   ]
  },
  {
   "cell_type": "code",
   "execution_count": 72,
   "metadata": {},
   "outputs": [
    {
     "name": "stdout",
     "output_type": "stream",
     "text": [
      "Success Hull centroid wrt points: (0.6913684173232324, 1.8437792961119042, 7.285426649841911)\n",
      "Success Hull centroid wrt sides: (0.7138784034039962, 1.922976765262719, 7.00185420873672)\n",
      "Cluster Hull centroid wrt points: (0.6913684173232324, 1.8437792961119042, 7.285426649841911)\n",
      "Cluster Hull centroid wrt sides: (0.7138784034039962, 1.922976765262719, 7.00185420873672)\n"
     ]
    },
    {
     "data": {
      "application/vnd.jupyter.widget-view+json": {
       "model_id": "f2cc3c2df2fb4a158bdeb49b10db4c64",
       "version_major": 2,
       "version_minor": 0
      },
      "text/plain": [
       "VBox(children=(Tab(children=(VBox(children=(FigureWidget({\n",
       "    'data': [{'hoverinfo': 'text',\n",
       "              'm…"
      ]
     },
     "metadata": {},
     "output_type": "display_data"
    }
   ],
   "source": [
    "importlib.reload(plot_3d)\n",
    "data_path = './perovskitedata/escalation.csv'\n",
    "base_path = '.'\n",
    "#clustering_algo = sklearn.cluster.DBSCAN(eps=0.5)\n",
    "clustering_algo = None\n",
    "f = plot_3d.Figure1(data_path, base_path=base_path, cluster=clustering_algo)\n",
    "f.plot"
   ]
  },
  {
   "cell_type": "code",
   "execution_count": 28,
   "metadata": {},
   "outputs": [
    {
     "data": {
      "text/plain": [
       "7027"
      ]
     },
     "execution_count": 28,
     "metadata": {},
     "output_type": "execute_result"
    }
   ],
   "source": [
    "import pandas as pd\n",
    "df = pd.read_csv('./perovskitedata/0039.perovskitedata.csv',low_memory=False, skiprows=4)\n",
    "len(df)"
   ]
  },
  {
   "cell_type": "code",
   "execution_count": 29,
   "metadata": {},
   "outputs": [
    {
     "data": {
      "text/plain": [
       "1617"
      ]
     },
     "execution_count": 29,
     "metadata": {},
     "output_type": "execute_result"
    }
   ],
   "source": [
    "len(df.loc[df['_out_crystalscore'] == 4])"
   ]
  },
  {
   "cell_type": "code",
   "execution_count": 30,
   "metadata": {},
   "outputs": [],
   "source": [
    "import json"
   ]
  },
  {
   "cell_type": "code",
   "execution_count": 32,
   "metadata": {},
   "outputs": [],
   "source": [
    "chemicals = pd.read_csv('./perovskitedata/organic_inchikey.csv', sep='\\t')"
   ]
  },
  {
   "cell_type": "code",
   "execution_count": 34,
   "metadata": {},
   "outputs": [],
   "source": [
    "spaces = pd.read_csv('./perovskitedata/state_spaces.csv')"
   ]
  },
  {
   "cell_type": "code",
   "execution_count": 35,
   "metadata": {},
   "outputs": [
    {
     "data": {
      "text/html": [
       "<div>\n",
       "<style scoped>\n",
       "    .dataframe tbody tr th:only-of-type {\n",
       "        vertical-align: middle;\n",
       "    }\n",
       "\n",
       "    .dataframe tbody tr th {\n",
       "        vertical-align: top;\n",
       "    }\n",
       "\n",
       "    .dataframe thead th {\n",
       "        text-align: right;\n",
       "    }\n",
       "</style>\n",
       "<table border=\"1\" class=\"dataframe\">\n",
       "  <thead>\n",
       "    <tr style=\"text-align: right;\">\n",
       "      <th></th>\n",
       "      <th>uid</th>\n",
       "      <th>0_zeros</th>\n",
       "      <th>1_organic_max</th>\n",
       "      <th>2_inorganic_max</th>\n",
       "      <th>3_acid_max</th>\n",
       "      <th>4_max_acid_max_org</th>\n",
       "      <th>5_max_acid_max_inor</th>\n",
       "      <th>chemical_list</th>\n",
       "    </tr>\n",
       "  </thead>\n",
       "  <tbody>\n",
       "    <tr>\n",
       "      <th>0</th>\n",
       "      <td>2018-11-09T01</td>\n",
       "      <td>(0, 0, 0)</td>\n",
       "      <td>(0, 3.967957142840184, 0)</td>\n",
       "      <td>(1.1025680909862394, 2.2029443397861956, 0)</td>\n",
       "      <td>(0, 0, 14.94851184010428)</td>\n",
       "      <td>(0.0, 1.7300293142783203, 14.94851184010428)</td>\n",
       "      <td>(0.4807196876700004, 0.9604837321467814, 14.94...</td>\n",
       "      <td>['PbI2', 'EtNH3I', 'GBL']</td>\n",
       "    </tr>\n",
       "    <tr>\n",
       "      <th>1</th>\n",
       "      <td>2018-07-12T19</td>\n",
       "      <td>(0, 0, 0)</td>\n",
       "      <td>(0, 3.438605239248422, 0)</td>\n",
       "      <td>(1.4902424111893977, 0.7458746320375584, 0)</td>\n",
       "      <td>(0, 0, 14.94851184010428)</td>\n",
       "      <td>(0.0, 1.4992318843123118, 14.94851184010428)</td>\n",
       "      <td>(0.6497456912785774, 0.3252013395683755, 14.94...</td>\n",
       "      <td>['PbI2', 'GnNH3I', 'GBL']</td>\n",
       "    </tr>\n",
       "    <tr>\n",
       "      <th>2</th>\n",
       "      <td>2018-12-11T18</td>\n",
       "      <td>(0, 0, 0)</td>\n",
       "      <td>(0, 2.1061292212342035, 0)</td>\n",
       "      <td>(1.684511677379016, 2.1061292212342035, 0)</td>\n",
       "      <td>(0, 0, 14.94851184010428)</td>\n",
       "      <td>(0.0, 0.8594382749216031, 14.94851184010428)</td>\n",
       "      <td>(0.7344470913372511, 0.9182723404581128, 14.94...</td>\n",
       "      <td>['PbI2', 'iPropylammoniumIodide', 'GBL']</td>\n",
       "    </tr>\n",
       "    <tr>\n",
       "      <th>3</th>\n",
       "      <td>2019-08-08T16</td>\n",
       "      <td>(0, 0, 0)</td>\n",
       "      <td>(0, 2.2330304989415533, 0)</td>\n",
       "      <td>(1.717462086228532, 2.139092506469109, 0)</td>\n",
       "      <td>(0, 0, 14.94851184010428)</td>\n",
       "      <td>(0.0, 0.9736012975385172, 14.94851184010428)</td>\n",
       "      <td>(0.74881346959564, 0.9326443328205316, 14.9485...</td>\n",
       "      <td>['PbI2', '4FluoroBenzylammoniumIodide', 'DMF']</td>\n",
       "    </tr>\n",
       "    <tr>\n",
       "      <th>4</th>\n",
       "      <td>2019-06-18T20</td>\n",
       "      <td>(0, 0, 0)</td>\n",
       "      <td>(0, 2.8143946838567224, 0)</td>\n",
       "      <td>(1.3910974515568026, 1.737571952306627, 0)</td>\n",
       "      <td>(0, 0, 14.94851184010428)</td>\n",
       "      <td>(0.0, 1.227076082161531, 14.94851184010428)</td>\n",
       "      <td>(0.606518488878766, 0.7575813712056894, 14.948...</td>\n",
       "      <td>['PbI2', '4TrifluoromethylPhenylammoniumIodide...</td>\n",
       "    </tr>\n",
       "  </tbody>\n",
       "</table>\n",
       "</div>"
      ],
      "text/plain": [
       "             uid    0_zeros               1_organic_max  \\\n",
       "0  2018-11-09T01  (0, 0, 0)   (0, 3.967957142840184, 0)   \n",
       "1  2018-07-12T19  (0, 0, 0)   (0, 3.438605239248422, 0)   \n",
       "2  2018-12-11T18  (0, 0, 0)  (0, 2.1061292212342035, 0)   \n",
       "3  2019-08-08T16  (0, 0, 0)  (0, 2.2330304989415533, 0)   \n",
       "4  2019-06-18T20  (0, 0, 0)  (0, 2.8143946838567224, 0)   \n",
       "\n",
       "                               2_inorganic_max                 3_acid_max  \\\n",
       "0  (1.1025680909862394, 2.2029443397861956, 0)  (0, 0, 14.94851184010428)   \n",
       "1  (1.4902424111893977, 0.7458746320375584, 0)  (0, 0, 14.94851184010428)   \n",
       "2   (1.684511677379016, 2.1061292212342035, 0)  (0, 0, 14.94851184010428)   \n",
       "3    (1.717462086228532, 2.139092506469109, 0)  (0, 0, 14.94851184010428)   \n",
       "4   (1.3910974515568026, 1.737571952306627, 0)  (0, 0, 14.94851184010428)   \n",
       "\n",
       "                             4_max_acid_max_org  \\\n",
       "0  (0.0, 1.7300293142783203, 14.94851184010428)   \n",
       "1  (0.0, 1.4992318843123118, 14.94851184010428)   \n",
       "2  (0.0, 0.8594382749216031, 14.94851184010428)   \n",
       "3  (0.0, 0.9736012975385172, 14.94851184010428)   \n",
       "4   (0.0, 1.227076082161531, 14.94851184010428)   \n",
       "\n",
       "                                 5_max_acid_max_inor  \\\n",
       "0  (0.4807196876700004, 0.9604837321467814, 14.94...   \n",
       "1  (0.6497456912785774, 0.3252013395683755, 14.94...   \n",
       "2  (0.7344470913372511, 0.9182723404581128, 14.94...   \n",
       "3  (0.74881346959564, 0.9326443328205316, 14.9485...   \n",
       "4  (0.606518488878766, 0.7575813712056894, 14.948...   \n",
       "\n",
       "                                       chemical_list  \n",
       "0                          ['PbI2', 'EtNH3I', 'GBL']  \n",
       "1                          ['PbI2', 'GnNH3I', 'GBL']  \n",
       "2           ['PbI2', 'iPropylammoniumIodide', 'GBL']  \n",
       "3     ['PbI2', '4FluoroBenzylammoniumIodide', 'DMF']  \n",
       "4  ['PbI2', '4TrifluoromethylPhenylammoniumIodide...  "
      ]
     },
     "execution_count": 35,
     "metadata": {},
     "output_type": "execute_result"
    }
   ],
   "source": [
    "spaces.head()"
   ]
  },
  {
   "cell_type": "code",
   "execution_count": 63,
   "metadata": {},
   "outputs": [],
   "source": [
    "import ast\n",
    "data = {}\n",
    "for row in spaces.iterrows():\n",
    "    points = [ast.literal_eval(r) for r in row[1][1:7]]\n",
    "    chemlist = tuple(ast.literal_eval(row[1][-1]))\n",
    "    data[chemlist] = points"
   ]
  },
  {
   "cell_type": "code",
   "execution_count": 64,
   "metadata": {},
   "outputs": [],
   "source": [
    "chemicals.head()\n",
    "chem_abbr = {chemicals['Chemical Abbreviation'].iloc[i]:chemicals['InChI Key (ID)'].iloc[i] for i in range(len(chemicals))}\n",
    "\n",
    "    "
   ]
  },
  {
   "cell_type": "code",
   "execution_count": 65,
   "metadata": {},
   "outputs": [],
   "source": [
    "final_data = {}\n",
    "for chem_list, points in data.items():\n",
    "    inchi_list = []\n",
    "    for chemical in chem_list:\n",
    "        if chemical in chem_abbr:\n",
    "            inchi = chem_abbr[chemical]\n",
    "        else:\n",
    "            inchi = chemical\n",
    "        inchi_list.append(inchi)\n",
    "    final_data[tuple(inchi_list)] = points"
   ]
  },
  {
   "cell_type": "code",
   "execution_count": 66,
   "metadata": {},
   "outputs": [],
   "source": [
    "final_data_list = []\n",
    "for chem, points in final_data.items():\n",
    "    data = {}\n",
    "    data['inorg'], data['org'], data['acid'] = chem\n",
    "    data['points'] = points\n",
    "    final_data_list.append(data)"
   ]
  },
  {
   "cell_type": "code",
   "execution_count": 67,
   "metadata": {},
   "outputs": [],
   "source": [
    "json.dump(final_data_list, open('./perovskitedata/state_spaces.json', 'w'))"
   ]
  },
  {
   "cell_type": "code",
   "execution_count": null,
   "metadata": {},
   "outputs": [],
   "source": []
  }
 ],
 "metadata": {
  "hide_input": false,
  "kernelspec": {
   "display_name": "Python 3",
   "language": "python",
   "name": "python3"
  },
  "language_info": {
   "codemirror_mode": {
    "name": "ipython",
    "version": 3
   },
   "file_extension": ".py",
   "mimetype": "text/x-python",
   "name": "python",
   "nbconvert_exporter": "python",
   "pygments_lexer": "ipython3",
   "version": "3.7.3"
  }
 },
 "nbformat": 4,
 "nbformat_minor": 2
}
